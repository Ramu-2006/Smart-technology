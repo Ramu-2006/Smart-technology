{
  "nbformat": 4,
  "nbformat_minor": 0,
  "metadata": {
    "colab": {
      "provenance": [],
      "authorship_tag": "ABX9TyP7DHiUy/YXhqUVJbhvH/zH",
      "include_colab_link": true
    },
    "kernelspec": {
      "name": "python3",
      "display_name": "Python 3"
    },
    "language_info": {
      "name": "python"
    }
  },
  "cells": [
    {
      "cell_type": "markdown",
      "metadata": {
        "id": "view-in-github",
        "colab_type": "text"
      },
      "source": [
        "<a href=\"https://colab.research.google.com/github/Ramu-2006/Smart-technology/blob/main/Untitled5.ipynb\" target=\"_parent\"><img src=\"https://colab.research.google.com/assets/colab-badge.svg\" alt=\"Open In Colab\"/></a>"
      ]
    },
    {
      "cell_type": "code",
      "execution_count": 1,
      "metadata": {
        "colab": {
          "base_uri": "https://localhost:8080/",
          "height": 1000
        },
        "id": "6Br-Y5zCyIWP",
        "outputId": "bfbea0ee-f826-48fe-a14d-40b6e135eae4"
      },
      "outputs": [
        {
          "output_type": "stream",
          "name": "stdout",
          "text": [
            "\u001b[2K   \u001b[90m━━━━━━━━━━━━━━━━━━━━━━━━━━━━━━━━━━━━━━━━\u001b[0m \u001b[32m54.2/54.2 MB\u001b[0m \u001b[31m9.0 MB/s\u001b[0m eta \u001b[36m0:00:00\u001b[0m\n",
            "\u001b[2K   \u001b[90m━━━━━━━━━━━━━━━━━━━━━━━━━━━━━━━━━━━━━━━━\u001b[0m \u001b[32m323.1/323.1 kB\u001b[0m \u001b[31m12.6 MB/s\u001b[0m eta \u001b[36m0:00:00\u001b[0m\n",
            "\u001b[2K   \u001b[90m━━━━━━━━━━━━━━━━━━━━━━━━━━━━━━━━━━━━━━━━\u001b[0m \u001b[32m95.2/95.2 kB\u001b[0m \u001b[31m4.4 MB/s\u001b[0m eta \u001b[36m0:00:00\u001b[0m\n",
            "\u001b[2K   \u001b[90m━━━━━━━━━━━━━━━━━━━━━━━━━━━━━━━━━━━━━━━━\u001b[0m \u001b[32m11.6/11.6 MB\u001b[0m \u001b[31m40.0 MB/s\u001b[0m eta \u001b[36m0:00:00\u001b[0m\n",
            "\u001b[2K   \u001b[90m━━━━━━━━━━━━━━━━━━━━━━━━━━━━━━━━━━━━━━━━\u001b[0m \u001b[32m72.0/72.0 kB\u001b[0m \u001b[31m3.8 MB/s\u001b[0m eta \u001b[36m0:00:00\u001b[0m\n",
            "\u001b[2K   \u001b[90m━━━━━━━━━━━━━━━━━━━━━━━━━━━━━━━━━━━━━━━━\u001b[0m \u001b[32m62.5/62.5 kB\u001b[0m \u001b[31m2.1 MB/s\u001b[0m eta \u001b[36m0:00:00\u001b[0m\n",
            "\u001b[?25hDataset preview:\n",
            "   MedInc  HouseAge  AveRooms  AveBedrms  Population  AveOccup  Latitude  \\\n",
            "0  8.3252      41.0  6.984127   1.023810       322.0  2.555556     37.88   \n",
            "1  8.3014      21.0  6.238137   0.971880      2401.0  2.109842     37.86   \n",
            "2  7.2574      52.0  8.288136   1.073446       496.0  2.802260     37.85   \n",
            "3  5.6431      52.0  5.817352   1.073059       558.0  2.547945     37.85   \n",
            "4  3.8462      52.0  6.281853   1.081081       565.0  2.181467     37.85   \n",
            "\n",
            "   Longitude  MedHouseVal  \n",
            "0    -122.23        4.526  \n",
            "1    -122.22        3.585  \n",
            "2    -122.24        3.521  \n",
            "3    -122.25        3.413  \n",
            "4    -122.25        3.422  \n",
            "Model Performance:\n",
            "Root Mean Squared Error (RMSE): 0.5053399773665033\n",
            "R-squared (R2): 0.8051230593157366\n"
          ]
        },
        {
          "output_type": "display_data",
          "data": {
            "text/plain": [
              "<Figure size 1000x600 with 1 Axes>"
            ],
            "image/png": "[encoded data removed]"
          },
          "metadata": {}
        },
        {
          "output_type": "stream",
          "name": "stdout",
          "text": [
            "Colab notebook detected. To show errors in colab notebook, set debug=True in launch()\n",
            "* Running on public URL: https://d05b9813314f76f087.gradio.live\n",
            "\n",
            "This share link expires in 1 week. For free permanent hosting and GPU upgrades, run `gradio deploy` from the terminal in the working directory to deploy to Hugging Face Spaces (https://huggingface.co/spaces)\n"
          ]
        },
        {
          "output_type": "display_data",
          "data": {
            "text/plain": [
              "<IPython.core.display.HTML object>"
            ],
            "text/html": [
              "<div><iframe src=\"https://d05b9813314f76f087.gradio.live\" width=\"100%\" height=\"500\" allow=\"autoplay; camera; microphone; clipboard-read; clipboard-write;\" frameborder=\"0\" allowfullscreen></iframe></div>"
            ]
          },
          "metadata": {}
        },
        {
          "output_type": "execute_result",
          "data": {
            "text/plain": []
          },
          "metadata": {},
          "execution_count": 1
        }
      ],
      "source": [
        "\n",
        "# Install Gradio\n",
        "!pip install gradio --quiet\n",
        "\n",
        "# Import necessary libraries\n",
        "import numpy as np\n",
        "import pandas as pd\n",
        "import matplotlib.pyplot as plt\n",
        "import seaborn as sns\n",
        "from sklearn.model_selection import train_test_split\n",
        "from sklearn.ensemble import RandomForestRegressor\n",
        "from sklearn.metrics import mean_squared_error, r2_score\n",
        "import gradio as gr\n",
        "\n",
        "# Load dataset (California Housing dataset from sklearn)\n",
        "from sklearn.datasets import fetch_california_housing\n",
        "housing = fetch_california_housing(as_frame=True)\n",
        "data = housing.frame\n",
        "\n",
        "# Display the first few rows\n",
        "print(\"Dataset preview:\")\n",
        "print(data.head())\n",
        "\n",
        "# Define features and target\n",
        "X = data.drop('MedHouseVal', axis=1)\n",
        "y = data['MedHouseVal']\n",
        "\n",
        "# Split data into training and testing sets\n",
        "X_train, X_test, y_train, y_test = train_test_split(X, y, test_size=0.2, random_state=42)\n",
        "\n",
        "# Initialize and train Random Forest Regressor\n",
        "model = RandomForestRegressor(n_estimators=100, random_state=42)\n",
        "model.fit(X_train, y_train)\n",
        "\n",
        "# Predict on test set\n",
        "y_pred = model.predict(X_test)\n",
        "\n",
        "# Evaluate model\n",
        "mse = mean_squared_error(y_test, y_pred)\n",
        "rmse = np.sqrt(mse)\n",
        "r2 = r2_score(y_test, y_pred)\n",
        "\n",
        "print(f\"Model Performance:\")\n",
        "print(f\"Root Mean Squared Error (RMSE): {rmse}\")\n",
        "print(f\"R-squared (R2): {r2}\")\n",
        "\n",
        "# Plot feature importance\n",
        "feature_importances = model.feature_importances_\n",
        "features = X.columns\n",
        "plt.figure(figsize=(10,6))\n",
        "sns.barplot(x=feature_importances, y=features)\n",
        "plt.title('Feature Importance in House Price Prediction')\n",
        "plt.show()\n",
        "\n",
        "# Define prediction function for Gradio\n",
        "def predict_price(median_income, house_age, avg_rooms, avg_bedrooms,\n",
        "                 population, avg_occupancy, latitude, longitude):\n",
        "    # Create a feature array in the same order as training data\n",
        "    features = np.array([[\n",
        "        median_income, house_age, avg_rooms, avg_bedrooms,\n",
        "        population, avg_occupancy, latitude, longitude\n",
        "    ]])\n",
        "\n",
        "    # Make prediction\n",
        "    prediction = model.predict(features)[0]\n",
        "\n",
        "    # California housing dataset has prices in $100,000s, so multiply by 100000\n",
        "    price_in_dollars = prediction * 100000\n",
        "\n",
        "    return f\"Predicted house value: ${price_in_dollars:,.2f}\"\n",
        "\n",
        "# Create Gradio interface\n",
        "iface = gr.Interface(\n",
        "    fn=predict_price,\n",
        "    inputs=[\n",
        "        gr.Slider(0, 15, step=0.1, label=\"Median Income ($10k)\", value=3.5),\n",
        "        gr.Slider(1, 50, step=1, label=\"House Age (years)\", value=25),\n",
        "        gr.Slider(1, 10, step=0.1, label=\"Average Rooms\", value=5.5),\n",
        "        gr.Slider(0.5, 5, step=0.1, label=\"Average Bedrooms\", value=1.0),\n",
        "        gr.Slider(100, 10000, step=100, label=\"Population\", value=1500),\n",
        "        gr.Slider(1, 10, step=0.1, label=\"Average Occupancy\", value=3.0),\n",
        "        gr.Slider(32, 42, step=0.1, label=\"Latitude\", value=37.5),\n",
        "        gr.Slider(-125, -114, step=0.1, label=\"Longitude\", value=-120)\n",
        "    ],\n",
        "    outputs=\"text\",\n",
        "    title=\"California Housing Price Predictor\",\n",
        "    description=\"Enter housing details to predict the median house value in a California district.\"\n",
        ")\n",
        "\n",
        "# Launch the app\n",
        "iface.launch(share=True)  # share=True generates a public link"
      ]
    }
  ]
}